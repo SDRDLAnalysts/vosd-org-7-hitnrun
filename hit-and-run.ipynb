{
 "metadata": {
  "name": "",
  "signature": "sha256:2e5bae66d0fb2d2e990b81efc8001a65bd6282431dacaec17e2e7c28553dbc50"
 },
 "nbformat": 3,
 "nbformat_minor": 0,
 "worksheets": [
  {
   "cells": [
    {
     "cell_type": "code",
     "collapsed": true,
     "input": [
      "%matplotlib inline\n",
      "import numpy as np\n",
      "import matplotlib as mpl\n",
      "import pandas as pd\n",
      "from  sdipylib.url import cache_url\n",
      "pd.options.display.max_columns = 50\n",
      "fn = cache_url('http://devtest.sandiegodata.org.s3.amazonaws.com/manifests/7a007ac7-960f-468b-8ce3-7b9f83e34ea8/hnr0914.csv')\n",
      "df = pd.read_csv(fn)\n",
      "CHPdf = pd.read_csv('/Users/Gonzalo/IPython Notebooks/vosd.org-7-hitnrun/CHPdata.csv')"
     ],
     "language": "python",
     "metadata": {},
     "outputs": [],
     "prompt_number": 52
    },
    {
     "cell_type": "markdown",
     "metadata": {},
     "source": [
      "#Hit & Run Analysis: Injury and Fatal Collisions\n",
      "\n",
      "by the members of the San Diego Regional Data Library:\n",
      "   - Kevin Hung\n",
      "   - Kenny Law\n",
      "   - Hila Hashemi\n",
      "   - Rajat Shah  \n",
      "   - Brian Whitaker\n",
      "   - Gonzalo Urruta\n",
      " "
     ]
    },
    {
     "cell_type": "markdown",
     "metadata": {},
     "source": [
      "## The Data Set"
     ]
    },
    {
     "cell_type": "markdown",
     "metadata": {},
     "source": [
      "From the District Attorney's office (DA), a data set was put together that includes all the hit and run cases in San Diego County that were sentenced between 2009 and 2014. The datasets used in this analysis is [avaialble online.](http://devtest.sandiegodata.org.s3.amazonaws.com/manifests/7a007ac7-960f-468b-8ce3-7b9f83e34ea8/documentation.html)\n",
      "\n",
      "From the California Highway Patrol, a summary of hit and run collisions between 2008 and 20012 was provided. "
     ]
    },
    {
     "cell_type": "markdown",
     "metadata": {},
     "source": [
      "### About the sample\n",
      "\n",
      "The data set reflects only the highest charge sentenced.\n",
      "The data set does not reflect:\n",
      "\n",
      "- Which cases had victim injury or deaths.\n",
      "- Hit and run cases where injury or death occured, but charges were filed as non-injury / non-fatal (eg: DUI, Reckless evading...)\n",
      "- Defendant's previous record, which can influence the type and length of sentence as well as their elegibility for a bargain.\n",
      "\n",
      "The data set does not include cases that do not make it to court (eg: suspect got away)"
     ]
    },
    {
     "cell_type": "markdown",
     "metadata": {},
     "source": [
      "#2009-2012\n",
      "### A breakdown of all closed cases"
     ]
    },
    {
     "cell_type": "code",
     "collapsed": false,
     "input": [
      "df=df[(df.complaint_year>=2009)&(df.complaint_year <= 2012)]\n",
      "\n",
      "df['final_disposition'] = df['final_disposition'].str.replace(',', '') #removing commas from strings for clarity\\n\"\n",
      "df.final_disposition = df.final_disposition.fillna(\"No sentence yet\") #blanks in final disposition are pending\n",
      "dismissed = df['final_disposition'].str.contains(\"Dismissed\")\n",
      "nosentence = df['final_disposition'].str.contains(\"No sentence yet\")\n",
      "nocontest = df['final_disposition'].str.contains(\"No Contest Infraction\")\n",
      "df.sentencing = df.sentencing.fillna(\"\")\n",
      "county = df[df['sentencing'].str.contains(\"Local\")]\n",
      "prison = df[df['sentencing'].str.contains(\"Prison\")]\n",
      "\n",
      "#Plea Bargain\n",
      "pleadguilty = df['final_disposition'].str.contains(\"Pled Guilty\")\n",
      "pleadguilty_inf = df['final_disposition'].str.contains(\"Pled Guilty Infraction\")\n",
      "pleadguilty_mis = df['final_disposition'].str.contains(\"Pled Guilty Misdemeanor\")\n",
      "pleadguilty_fel = df['final_disposition'].str.contains(\"Pled Guilty Felony\")\n",
      "\n",
      "#Pled Not Guilty\n",
      "pleadnotguilty = df['final_disposition'].str.contains(\"Found\")\n",
      "notguilty =  df['final_disposition'].str.contains(\"Found Not Guilty\")\n",
      "guilty =  df['final_disposition'].str.contains(\"Found Guilty\")\n",
      "guilty_mis = df['final_disposition'].str.contains(\"Found Guilty Misdemeanor\")\n",
      "guilty_fel = df['final_disposition'].str.contains(\"Found Guilty Felony\")\n",
      "\n",
      "hnrsentences=notguilty.sum()+pleadnotguilty.sum()+pleadguilty.sum()\n",
      "\n",
      "print \"Number of hit & runs sentenced =\", hnrsentences\n",
      "print \"\"\n",
      "print \"Defendants plea:\"\n",
      "print \"\"\n",
      "print \"\u00b7 Guilty (plea bargain) =\", pleadguilty.sum()\n",
      "print \"    to an infraction =\", pleadguilty_inf.sum()\n",
      "print \"    to a misdemeanor =\", pleadguilty_mis.sum()\n",
      "print \"    to a felony =\", pleadguilty_fel.sum()\n",
      "print \"\"\n",
      "print \"\u00b7 Not Guilty =\", pleadnotguilty.sum()\n",
      "print \"    and were found not guilty =\", notguilty.sum()\n",
      "print \"    and were found guilty =\", guilty.sum()\n",
      "print \"        of a misdemeanor =\", guilty_mis.sum()\n",
      "print \"        of a felony =\", guilty_fel.sum()\n"
     ],
     "language": "python",
     "metadata": {},
     "outputs": [
      {
       "output_type": "stream",
       "stream": "stdout",
       "text": [
        "Number of hit & runs sentenced = 542\n",
        "\n",
        "Defendants plea:\n",
        "\n",
        "\u00b7 Guilty (plea bargain) = 527\n",
        "    to an infraction = 1\n",
        "    to a misdemeanor = 157\n",
        "    to a felony = 369\n",
        "\n",
        "\u00b7 Not Guilty = 14\n",
        "    and were found not guilty = 1\n",
        "    and were found guilty = 13\n",
        "        of a misdemeanor = 1\n",
        "        of a felony = 12\n"
       ]
      }
     ],
     "prompt_number": 41
    },
    {
     "cell_type": "markdown",
     "metadata": {},
     "source": [
      "## Cases where highest charge involves injury and/or death\n",
      "\n",
      "At the journalist request, we'll only look at the cases where the highest charge involves injury and fatality collisions. \n",
      "- VC20001: Duty to stop at an accident with injury or death\n",
      "- PC192: Vehicular Manslaughter \n",
      "- PC191.5: Vehicular Manslaughter while Intoxicated\n",
      "- PC187: Murder\n",
      "\n",
      "This exploration does not include possible cases where the DA offers a non-related highest charge (eg: DUI).\n"
     ]
    },
    {
     "cell_type": "code",
     "collapsed": false,
     "input": [
      "# VC20001 = Failing to Stop after an Accident (Injury or Death)\n",
      "vc = df['highest_charge'].str.contains(\"VC20001\")\n",
      "vctot = len(df[vc])\n",
      "vcnoinc = df[vc].incar.isnull().sum() \n",
      "vcinc = vctot-vcnoinc\n",
      "vcincmean = df[vc].incar.mean()/30.4\n",
      "vcprobmean = df[vc].prob.mean()/30.4\n",
      "\n",
      "# PC192 = Vehicular Manslaughter\n",
      "manslaughter = df['highest_charge'].str.contains(\"PC192\")\n",
      "manslaughtertot = len(df[manslaughter])\n",
      "manslaughternoinc = df[manslaughter].incar.isnull().sum()\n",
      "manslaughterinc = manslaughtertot - manslaughterinoinc\n",
      "manslaughterincmean = df[manslaughter].incar.mean()/30.4\n",
      "manslaughterprobmean = df[manslaughter].prob.mean()/30.4\n",
      "\n",
      "\n",
      "# PC191.5 = Vehicular Manslaughter (while intoxicated)\n",
      "manslaughterdui = df['highest_charge'].str.contains(\"PC191\")\n",
      "manslaughterduitot = len(df[manslaughterdui])\n",
      "manslaughterduinoinc = df[manslaughterdui].incar.isnull().sum()\n",
      "manslaughterduiinc = manslaughterduitot - manslaughterduinoinc\n",
      "manslaughterduiincmean = df[manslaughterdui].incar.mean()/30.4\n",
      "manslaughterduiprobmean = df[manslaughterdui].prob.mean()/30.4\n",
      "\n",
      "# PC187 = Murder \n",
      "murder = df['highest_charge'].str.contains(\"PC187\")\n",
      "murdertot= len(df[murder])\n",
      "murdernoinc = df[murder].incar.isnull().sum()\n",
      "murderinc = murdertot- murdernoinc\n",
      "murderincmean = df[murder].incar.mean()/30.4\n",
      "murderprobmean = df[murder].prob.mean()/30.4\n",
      "\n",
      "\n",
      "index1 = (\"Duty to stop \\n accident w/\\ninjury or death\",\n",
      "         \"Vehicular\\nManslaughter\",\n",
      "         \"Vehicular\\nManslaughter\\nIntox\",\n",
      "         \"Murder\") \n",
      "df1 = pd.DataFrame({ \n",
      "'Incarceration': pd.Series((vcinc,manslaughterinc ,manslaughterduiinc,murderinc), index1),\n",
      "'No Incarceration': pd.Series((vcnoinc,manslaughternoinc,manslaughterduinoinc,murdernoinc), index1)\n",
      "}) \n",
      "\n",
      "ax1=df1.plot(kind='bar', legend=True, title= \"Highest Charge: Injury / Death of Victim\") \n",
      "ax1.set_ylabel('# of cases')\n",
      "ax1.set_xticklabels(df1.index, rotation='horizontal')\n",
      "\n",
      "# Shrink current axis by %\n",
      "box = ax1.get_position()\n",
      "ax1.set_position([box.x0, box.y0, box.width * 1.2, box.height])\n",
      "\n",
      "# Put a legend to the right of the current axis\n",
      "ax1.legend(loc='center left', bbox_to_anchor=(1, 0.5))\n",
      "\n",
      "index2 = (\"Duty to stop accident w/ injury or death\",\n",
      "         \"Vehicular  Manslaughter\",\n",
      "         \"Vehicular  Manslaughter while Intoxicated\",\n",
      "         \"Murder\") \n",
      "table1 = pd.DataFrame({ \n",
      "'Cases w/ Incarceration': pd.Series((vcinc,manslaughterinc ,manslaughterduiinc,murderinc), index2),\n",
      "'Cases w/ No Incarceration': pd.Series((vcnoinc,manslaughternoinc,manslaughterduinoinc,murdernoinc), index2)\n",
      "}) \n",
      "np.round(table1.fillna(0),1)"
     ],
     "language": "python",
     "metadata": {},
     "outputs": [
      {
       "html": [
        "<div style=\"max-height:1000px;max-width:1500px;overflow:auto;\">\n",
        "<table border=\"1\" class=\"dataframe\">\n",
        "  <thead>\n",
        "    <tr style=\"text-align: right;\">\n",
        "      <th></th>\n",
        "      <th>Cases w/ Incarceration</th>\n",
        "      <th>Cases w/ No Incarceration</th>\n",
        "    </tr>\n",
        "  </thead>\n",
        "  <tbody>\n",
        "    <tr>\n",
        "      <th>Duty to stop accident w/ injury or death</th>\n",
        "      <td> 114</td>\n",
        "      <td> 124</td>\n",
        "    </tr>\n",
        "    <tr>\n",
        "      <th>Vehicular  Manslaughter</th>\n",
        "      <td>   1</td>\n",
        "      <td>   1</td>\n",
        "    </tr>\n",
        "    <tr>\n",
        "      <th>Vehicular  Manslaughter while Intoxicated</th>\n",
        "      <td>  10</td>\n",
        "      <td>   2</td>\n",
        "    </tr>\n",
        "    <tr>\n",
        "      <th>Murder</th>\n",
        "      <td>   5</td>\n",
        "      <td>   0</td>\n",
        "    </tr>\n",
        "  </tbody>\n",
        "</table>\n",
        "<p>4 rows \u00d7 2 columns</p>\n",
        "</div>"
       ],
       "metadata": {},
       "output_type": "pyout",
       "prompt_number": 36,
       "text": [
        "                                           Cases w/ Incarceration  \\\n",
        "Duty to stop accident w/ injury or death                      114   \n",
        "Vehicular  Manslaughter                                         1   \n",
        "Vehicular  Manslaughter while Intoxicated                      10   \n",
        "Murder                                                          5   \n",
        "\n",
        "                                           Cases w/ No Incarceration  \n",
        "Duty to stop accident w/ injury or death                         124  \n",
        "Vehicular  Manslaughter                                            1  \n",
        "Vehicular  Manslaughter while Intoxicated                          2  \n",
        "Murder                                                             0  \n",
        "\n",
        "[4 rows x 2 columns]"
       ]
      },
      {
       "metadata": {},
       "output_type": "display_data",
       "png": "[encoded data removed]",
       "text": [
        "<matplotlib.figure.Figure at 0x108eb3c90>"
       ]
      }
     ],
     "prompt_number": 36
    },
    {
     "cell_type": "markdown",
     "metadata": {},
     "source": [
      "Considering the sentences that relate to injury and/or death of victim (PC191.5, PC192, PC187 and VC20001), the DA has prosecuted 257 cases. "
     ]
    },
    {
     "cell_type": "markdown",
     "metadata": {},
     "source": [
      "###Avg Length of Sentence\n",
      "For cases where incarceration and/or probation was given, here are the avg length of sentences in months"
     ]
    },
    {
     "cell_type": "code",
     "collapsed": false,
     "input": [
      "index2 = (\"Duty to stop \\n accident w/\\ninjury or death\",\n",
      "         \"Vehicular\\nManslaughter\",\n",
      "         \"Vehicular\\nManslaughter\\nIntox\",\n",
      "         \"Murder\") \n",
      "df2 = pd.DataFrame({ \n",
      "'incarceration': pd.Series((vcincmean,manslaughterincmean,manslaughterduiincmean,murderincmean), index2),\n",
      "'probation': pd.Series((vcprobmean,manslaughterprobmean,manslaughterduiprobmean,murderprobmean), index2)\n",
      "}) \n",
      "\n",
      "ax2=df2.plot(kind='bar',legend=True, stacked=True, title= \"Length of Sentence by Highest Charge\\n\") \n",
      "ax2.set_ylabel('Avg Time (months)')\n",
      "ax2.set_xticklabels(df2.index, rotation='horizontal')\n",
      "\n",
      "\n",
      "# Shrink current axis by %\n",
      "box = ax2.get_position()\n",
      "ax2.set_position([box.x0, box.y0, box.width * 1.2, box.height])\n",
      "\n",
      "# Put a legend to the right of the current axis\n",
      "ax2.legend(loc='center left', bbox_to_anchor=(1, 0.5))\n",
      "\n",
      "index3 = (\"Duty to stop accident w/ injury or death\",\n",
      "         \"Vehicular Manslaughter\",\n",
      "         \"Vehicular Manslaughter while Intoxicated\",\n",
      "         \"Murder\") \n",
      "table2 = pd.DataFrame({ \n",
      "'Avg Length of Incarceration (months)': pd.Series((vcincmean,manslaughterincmean,manslaughterduiincmean,murderincmean),index3),\n",
      "'Avg Lenght of Probation (months)': pd.Series((vcprobmean,manslaughterprobmean,manslaughterduiprobmean,murderprobmean), index3)\n",
      "}) \n",
      "np.round(table2.fillna(0),1)"
     ],
     "language": "python",
     "metadata": {},
     "outputs": [
      {
       "html": [
        "<div style=\"max-height:1000px;max-width:1500px;overflow:auto;\">\n",
        "<table border=\"1\" class=\"dataframe\">\n",
        "  <thead>\n",
        "    <tr style=\"text-align: right;\">\n",
        "      <th></th>\n",
        "      <th>Avg Lenght of Probation (months)</th>\n",
        "      <th>Avg Length of Incarceration (months)</th>\n",
        "    </tr>\n",
        "  </thead>\n",
        "  <tbody>\n",
        "    <tr>\n",
        "      <th>Duty to stop accident w/ injury or death</th>\n",
        "      <td> 39.6</td>\n",
        "      <td>  10.9</td>\n",
        "    </tr>\n",
        "    <tr>\n",
        "      <th>Vehicular Manslaughter</th>\n",
        "      <td> 36.0</td>\n",
        "      <td>  52.0</td>\n",
        "    </tr>\n",
        "    <tr>\n",
        "      <th>Vehicular Manslaughter while Intoxicated</th>\n",
        "      <td>  0.0</td>\n",
        "      <td> 138.1</td>\n",
        "    </tr>\n",
        "    <tr>\n",
        "      <th>Murder</th>\n",
        "      <td>  0.0</td>\n",
        "      <td> 194.5</td>\n",
        "    </tr>\n",
        "  </tbody>\n",
        "</table>\n",
        "<p>4 rows \u00d7 2 columns</p>\n",
        "</div>"
       ],
       "metadata": {},
       "output_type": "pyout",
       "prompt_number": 40,
       "text": [
        "                                          Avg Lenght of Probation (months)  \\\n",
        "Duty to stop accident w/ injury or death                              39.6   \n",
        "Vehicular Manslaughter                                                36.0   \n",
        "Vehicular Manslaughter while Intoxicated                               0.0   \n",
        "Murder                                                                 0.0   \n",
        "\n",
        "                                          Avg Length of Incarceration (months)  \n",
        "Duty to stop accident w/ injury or death                                  10.9  \n",
        "Vehicular Manslaughter                                                    52.0  \n",
        "Vehicular Manslaughter while Intoxicated                                 138.1  \n",
        "Murder                                                                   194.5  \n",
        "\n",
        "[4 rows x 2 columns]"
       ]
      },
      {
       "metadata": {},
       "output_type": "display_data",
       "png": "[encoded data removed]",
       "text": [
        "<matplotlib.figure.Figure at 0x108d01fd0>"
       ]
      }
     ],
     "prompt_number": 40
    },
    {
     "cell_type": "markdown",
     "metadata": {},
     "source": [
      "##California Highway Patrol \n",
      "####Reported Hit and Runs"
     ]
    },
    {
     "cell_type": "code",
     "collapsed": false,
     "input": [
      "CHPdf=CHPdf[(CHPdf['Collision Year']>=2009)&(CHPdf['Collision Year']<= 2012)]"
     ],
     "language": "python",
     "metadata": {},
     "outputs": [
      {
       "html": [
        "<div style=\"max-height:1000px;max-width:1500px;overflow:auto;\">\n",
        "<table border=\"1\" class=\"dataframe\">\n",
        "  <thead>\n",
        "    <tr style=\"text-align: right;\">\n",
        "      <th></th>\n",
        "      <th>Collision Year</th>\n",
        "      <th>Total Collisions</th>\n",
        "      <th>Fatal Collisions</th>\n",
        "      <th>Injury Collisions</th>\n",
        "      <th>Property Damage Only Collisons</th>\n",
        "      <th>Killed Victims</th>\n",
        "      <th>Injured victims</th>\n",
        "    </tr>\n",
        "  </thead>\n",
        "  <tbody>\n",
        "    <tr>\n",
        "      <th>1</th>\n",
        "      <td> 2009</td>\n",
        "      <td> 3539</td>\n",
        "      <td> 15</td>\n",
        "      <td> 1089</td>\n",
        "      <td> 2435</td>\n",
        "      <td> 16</td>\n",
        "      <td> 1461</td>\n",
        "    </tr>\n",
        "    <tr>\n",
        "      <th>2</th>\n",
        "      <td> 2010</td>\n",
        "      <td> 3446</td>\n",
        "      <td>  6</td>\n",
        "      <td> 1005</td>\n",
        "      <td> 2435</td>\n",
        "      <td>  6</td>\n",
        "      <td> 1282</td>\n",
        "    </tr>\n",
        "    <tr>\n",
        "      <th>3</th>\n",
        "      <td> 2011</td>\n",
        "      <td> 3164</td>\n",
        "      <td>  5</td>\n",
        "      <td> 1006</td>\n",
        "      <td> 2153</td>\n",
        "      <td>  5</td>\n",
        "      <td> 1319</td>\n",
        "    </tr>\n",
        "    <tr>\n",
        "      <th>4</th>\n",
        "      <td> 2012</td>\n",
        "      <td> 2924</td>\n",
        "      <td> 12</td>\n",
        "      <td>  961</td>\n",
        "      <td> 1951</td>\n",
        "      <td> 12</td>\n",
        "      <td> 1261</td>\n",
        "    </tr>\n",
        "  </tbody>\n",
        "</table>\n",
        "<p>4 rows \u00d7 7 columns</p>\n",
        "</div>"
       ],
       "metadata": {},
       "output_type": "pyout",
       "prompt_number": 55,
       "text": [
        "   Collision Year  Total Collisions  Fatal Collisions  Injury Collisions  \\\n",
        "1            2009              3539                15               1089   \n",
        "2            2010              3446                 6               1005   \n",
        "3            2011              3164                 5               1006   \n",
        "4            2012              2924                12                961   \n",
        "\n",
        "   Property Damage Only Collisons  Killed Victims  Injured victims  \n",
        "1                            2435              16             1461  \n",
        "2                            2435               6             1282  \n",
        "3                            2153               5             1319  \n",
        "4                            1951              12             1261  \n",
        "\n",
        "[4 rows x 7 columns]"
       ]
      }
     ],
     "prompt_number": 55
    },
    {
     "cell_type": "code",
     "collapsed": false,
     "input": [
      "chpfatinjtot = CHPdf['Fatal Collisions'].sum()+CHPdf['Injury Collisions'].sum()\n",
      "print \"The CHP has reported\",chpfatinjtot, \"hit and runs that resulted in injury or death.\""
     ],
     "language": "python",
     "metadata": {},
     "outputs": [
      {
       "output_type": "stream",
       "stream": "stdout",
       "text": [
        "The CHP has reported 4099 hit and runs that resulted in injury or death.\n"
       ]
      }
     ],
     "prompt_number": 60
    },
    {
     "cell_type": "markdown",
     "metadata": {},
     "source": [
      "# Requested Conclusions\n",
      "\n",
      "- The court system brings to justice under the appropriate highest charge 6.3% of all hit and runs that result in injury or death of victim.\n",
      "- 9 out of 10 cases are plea bargains to VC20001: Duty to Stop at Accident with Injury or Death.\n",
      "- Incarceration: \n",
      "   - Out of the 241 cases, ~ half gets incarceration, and the other half doesn\u2019t.\n",
      "   - The avg length of incarceration for those who served is ~ 1 year.\n",
      "   \n",
      "##In other words\n",
      "Out of the all the reported hit and runs resulting in injury or death in San Diego (2009-2012):\n",
      "- 6 of 100 gets appropriately charged by the DA. \n",
      "  - With 3 out of 100 serving incarceration time; \n",
      "  - and the other 3, probation with no incarceration.\n",
      "\n"
     ]
    },
    {
     "cell_type": "code",
     "collapsed": false,
     "input": [],
     "language": "python",
     "metadata": {},
     "outputs": []
    }
   ],
   "metadata": {}
  }
 ]
}