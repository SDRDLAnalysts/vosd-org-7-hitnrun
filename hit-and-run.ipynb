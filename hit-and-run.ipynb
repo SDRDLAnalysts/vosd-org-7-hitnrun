{
 "metadata": {
  "name": "",
  "signature": "sha256:257555044cc01256da0d5e0e0875243f87525dc37c65954bdcd5b7280f7728ad"
 },
 "nbformat": 3,
 "nbformat_minor": 0,
 "worksheets": [
  {
   "cells": [
    {
     "cell_type": "code",
     "collapsed": false,
     "input": [
      "%matplotlib inline\n",
      "import numpy as np\n",
      "import matplotlib as mpl\n",
      "import pandas as pd\n",
      "from  sdipylib.url import cache_url\n",
      "pd.options.display.max_columns = 50\n",
      "fn = cache_url('http://devtest.sandiegodata.org.s3.amazonaws.com/manifests/7a007ac7-960f-468b-8ce3-7b9f83e34ea8/hnr0914.csv')\n",
      "df = pd.read_csv(fn)\n",
      "CHPdf = pd.read_csv('CHPdata.csv')"
     ],
     "language": "python",
     "metadata": {},
     "outputs": [],
     "prompt_number": 69
    },
    {
     "cell_type": "markdown",
     "metadata": {},
     "source": [
      "#Hit & Run Analysis: Injury and Fatal Collisions\n",
      "\n",
      "by the members of the San Diego Regional Data Library:\n",
      "   - [Hila Hashemi](http://nbviewer.ipython.org/github/sdrdlanalysts/vosd-org-7-hitnrun/blob/master/analysts/hil-hnr.ipynb)\n",
      "    - Analysis of Pleas (Not Guilty vs Bargains)\n",
      "    - Geographical Sentencing Disparity Analysis.\n",
      "    - Detailed analysis of sentences and incarcerations.\n",
      "   - [Kevin Hung](http://nbviewer.ipython.org/github/sdrdlanalysts/vosd-org-7-hitnrun/blob/master/analysts/kev-hnr.ipynb) \n",
      "    - Barchart of Highest Charge frequency\n",
      "    - Barcharts of Incarcerations by Year\n",
      "    - Detailed analysis of sentences and incarcerations.\n",
      "   - [Rajat Shah](http://nbviewer.ipython.org/github/sdrdlanalysts/vosd-org-7-hitnrun/blob/master/analysts/raj-hnr.ipynb)\n",
      "    - Detailed analysis of sentences and incarcerations.\n",
      "   - [Kenny Law](http://nbviewer.ipython.org/github/sdrdlanalysts/vosd-org-7-hitnrun/blob/master/analysts/ken-hnr.ipynb)\n",
      "    - Barchart comparing Incarceration vs No Incarceration cases.\n",
      "   - [Brian Whitaker](http://nbviewer.ipython.org/github/sdrdlanalysts/vosd-org-7-hitnrun/blob/master/analysts/bri-hnr.ipynb)\n",
      "    - Statistics and analysis of sentences and incarcerations.\n",
      "\n",
      "Report created by [Gonzalo Urrutia](http://nbviewer.ipython.org/github/sdrdlanalysts/vosd-org-7-hitnrun/blob/master/analysts/gon-hnr.ipynb)\n",
      "    "
     ]
    },
    {
     "cell_type": "markdown",
     "metadata": {},
     "source": [
      "## The Data Set"
     ]
    },
    {
     "cell_type": "markdown",
     "metadata": {},
     "source": [
      "From the District Attorney's office (DA), a data set was put together that includes all the hit and run cases in San Diego County that were sentenced between 2009 and 2014. The datasets used in this analysis is [avaialble online.](http://devtest.sandiegodata.org.s3.amazonaws.com/manifests/7a007ac7-960f-468b-8ce3-7b9f83e34ea8/documentation.html)\n",
      "\n",
      "From the California Highway Patrol, a summary of hit and run collisions between 2008 and 20012 was provided. "
     ]
    },
    {
     "cell_type": "markdown",
     "metadata": {},
     "source": [
      "### About the sample\n",
      "\n",
      "The data set reflects only the highest charge sentenced.\n",
      "The data set does not reflect:\n",
      "\n",
      "- Which cases had victim injury or deaths.\n",
      "- Hit and run cases where injury or death occured, but charges were filed as non-injury / non-fatal (eg: DUI, Reckless evading...)\n",
      "- Defendant's previous record, which can influence the type and length of sentence as well as their elegibility for a bargain.\n",
      "\n",
      "The data set does not include cases that do not make it to court (eg: suspect got away)"
     ]
    },
    {
     "cell_type": "code",
     "collapsed": false,
     "input": [
      "from datetime import datetime\n",
      "def string_to_date(date_string):\n",
      "    return datetime.strptime(date_string, \"%Y-%m-%d %H:%M:%S.%f\")\n",
      "\n",
      "# Run the function on every date string and overwrite the column\n",
      "df.offense_date = df.offense_date.apply(string_to_date)"
     ],
     "language": "python",
     "metadata": {},
     "outputs": [],
     "prompt_number": 70
    },
    {
     "cell_type": "code",
     "collapsed": false,
     "input": [
      "df[\"offense_year\"] = df.offense_date.apply(lambda d : d.year)"
     ],
     "language": "python",
     "metadata": {},
     "outputs": [],
     "prompt_number": 71
    },
    {
     "cell_type": "markdown",
     "metadata": {},
     "source": [
      "##2009-2012: A breakdown of all closed cases"
     ]
    },
    {
     "cell_type": "code",
     "collapsed": false,
     "input": [
      "#removing commas from strings for clarity\"\n",
      "df['final_disposition'] = df['final_disposition'].str.replace(',', '')\n",
      "\n",
      "#blanks in final disposition are pending\n",
      "df.final_disposition = df.final_disposition.fillna(\"No sentence yet\") \n",
      "\n",
      "#Remove these type of cases\n",
      "dismissed = df['final_disposition'].str.contains(\"Dismissed\")\n",
      "nosentence = df['final_disposition'].str.contains(\"No sentence yet\")\n",
      "nocontest = df['final_disposition'].str.contains(\"No Contest\")\n",
      "removecases = dismissed | nosentence | nocontest"
     ],
     "language": "python",
     "metadata": {},
     "outputs": [],
     "prompt_number": 72
    },
    {
     "cell_type": "code",
     "collapsed": false,
     "input": [
      "df = df[(df.offense_year >= 2009) & \n",
      "      (df.offense_year <= 2012) & \n",
      "      (removecases == False)]\n",
      "\n",
      "#Plea Bargain\n",
      "pleadguilty = df['final_disposition'].str.contains(\"Pled Guilty\")\n",
      "pleadguilty_inf = df['final_disposition'].str.contains(\"Pled Guilty Infraction\")\n",
      "pleadguilty_mis = df['final_disposition'].str.contains(\"Pled Guilty Misdemeanor\")\n",
      "pleadguilty_fel = df['final_disposition'].str.contains(\"Pled Guilty Felony\")\n",
      "\n",
      "#Pled Not Guilty\n",
      "pleadnotguilty = df['final_disposition'].str.contains(\"Found\")\n",
      "notguilty =  df['final_disposition'].str.contains(\"Found Not Guilty\")\n",
      "guilty =  df['final_disposition'].str.contains(\"Found Guilty\")\n",
      "guilty_mis = df['final_disposition'].str.contains(\"Found Guilty Misdemeanor\")\n",
      "guilty_fel = df['final_disposition'].str.contains(\"Found Guilty Felony\")\n",
      "\n",
      "hnrsentences = pleadnotguilty.sum() + pleadguilty.sum()\n",
      "\n",
      "#Summary\n",
      "print \"Number of hit & runs sentenced =\", hnrsentences\n",
      "print \"Defendant's Plea:\"\n",
      "\n",
      "print \"  \u00b7 Guilty (plea bargain) =\", pleadguilty.sum()\n",
      "print \"      of an infraction =\", pleadguilty_inf.sum()\n",
      "print \"      of a misdemeanor =\", pleadguilty_mis.sum()\n",
      "print \"      of a felony =\", pleadguilty_fel.sum()\n",
      "\n",
      "print \"  \u00b7 Not Guilty =\", pleadnotguilty.sum()\n",
      "print \"      and were found not guilty =\", notguilty.sum()\n",
      "print \"      and were found guilty =\", guilty.sum()\n",
      "print \"        of a misdemeanor =\", guilty_mis.sum()\n",
      "print \"        of a felony =\", guilty_fel.sum()"
     ],
     "language": "python",
     "metadata": {},
     "outputs": [
      {
       "output_type": "stream",
       "stream": "stdout",
       "text": [
        "Number of hit & runs sentenced = 540\n",
        "Defendant's Plea:\n",
        "  \u00b7 Guilty (plea bargain) = 527\n",
        "      of an infraction = 2\n",
        "      of a misdemeanor = 157\n",
        "      of a felony = 368\n",
        "  \u00b7 Not Guilty = 13\n",
        "      and were found not guilty = 1\n",
        "      and were found guilty = 12\n",
        "        of a misdemeanor = 1\n",
        "        of a felony = 11\n"
       ]
      }
     ],
     "prompt_number": 73
    },
    {
     "cell_type": "code",
     "collapsed": false,
     "input": [
      "indexinc = (\"0\",\n",
      "         \"1-120\",\n",
      "         \"+120\") \n",
      "dfinc = pd.DataFrame({ \n",
      "'# of Cases': pd.Series((df.incar.isnull().sum(),\n",
      "                        df.incar[(df.incar >= 1) & (df.incar <= 120)].count(),\n",
      "                        df.incar[(df.incar > 120)].count() ), indexinc)}) \n",
      "dfinc.index.names = ['Days Incarcerated']\n",
      "axinc=dfinc.plot(kind='bar', legend=True, title= \"Incarceration\") \n",
      "axinc.set_ylabel('# of cases')\n",
      "axinc.set_xticklabels(dfinc.index, rotation='horizontal')\n",
      "\n",
      "# Shrink current axis by %\n",
      "box = axinc.get_position()\n",
      "axinc.set_position([box.x0, box.y0, box.width * 1.2, box.height])\n",
      "\n",
      "# Put a legend to the right of the current axis\n",
      "axinc.legend(loc='center left', bbox_to_anchor=(1, 0.5))\n",
      "\n",
      "dfinc['% of all sentenced hit and runs']= np.round(100*dfinc.div(hnrsentences,axis='index'),2)\n",
      "dfinc"
     ],
     "language": "python",
     "metadata": {},
     "outputs": [
      {
       "html": [
        "<div style=\"max-height:1000px;max-width:1500px;overflow:auto;\">\n",
        "<table border=\"1\" class=\"dataframe\">\n",
        "  <thead>\n",
        "    <tr style=\"text-align: right;\">\n",
        "      <th></th>\n",
        "      <th># of Cases</th>\n",
        "      <th>% of all sentenced hit and runs</th>\n",
        "    </tr>\n",
        "    <tr>\n",
        "      <th>Days Incarcerated</th>\n",
        "      <th></th>\n",
        "      <th></th>\n",
        "    </tr>\n",
        "  </thead>\n",
        "  <tbody>\n",
        "    <tr>\n",
        "      <th>0</th>\n",
        "      <td> 155</td>\n",
        "      <td> 28.70</td>\n",
        "    </tr>\n",
        "    <tr>\n",
        "      <th>1-120</th>\n",
        "      <td>  99</td>\n",
        "      <td> 18.33</td>\n",
        "    </tr>\n",
        "    <tr>\n",
        "      <th>+120</th>\n",
        "      <td> 286</td>\n",
        "      <td> 52.96</td>\n",
        "    </tr>\n",
        "  </tbody>\n",
        "</table>\n",
        "<p>3 rows \u00d7 2 columns</p>\n",
        "</div>"
       ],
       "metadata": {},
       "output_type": "pyout",
       "prompt_number": 74,
       "text": [
        "                   # of Cases  % of all sentenced hit and runs\n",
        "Days Incarcerated                                             \n",
        "0                         155                            28.70\n",
        "1-120                      99                            18.33\n",
        "+120                      286                            52.96\n",
        "\n",
        "[3 rows x 2 columns]"
       ]
      },
      {
       "metadata": {},
       "output_type": "display_data",
       "png": "[encoded data removed]",
       "text": [
        "<matplotlib.figure.Figure at 0x10c1bfa50>"
       ]
      }
     ],
     "prompt_number": 74
    },
    {
     "cell_type": "markdown",
     "metadata": {},
     "source": [
      "## Cases where highest charge involves injury and/or death\n",
      "\n",
      "At the journalist request, we'll only look at the cases where the highest charge involves injury and fatality collisions. \n",
      "- VC20001: Duty to stop at an accident with injury or death\n",
      "- PC192: Vehicular Manslaughter \n",
      "- PC191.5: Vehicular Manslaughter while Intoxicated\n",
      "- PC187: Murder\n",
      "\n",
      "This exploration does not include possible cases where the DA offers a non-related highest charge (eg: DUI).\n"
     ]
    },
    {
     "cell_type": "code",
     "collapsed": false,
     "input": [
      "# VC20001 = Failing to Stop after an Accident (Injury or Death)\n",
      "vc = df['highest_charge'].str.contains(\"VC20001\")\n",
      "vctot = len(df[vc])\n",
      "vcnoinc = df[vc].incar.isnull().sum() \n",
      "vcinc = vctot-vcnoinc\n",
      "vcincmean = df[vc].incar.mean()/30.4\n",
      "vcprobmean = df[vc].prob.mean()/30.4\n",
      "\n",
      "# PC192 = Vehicular Manslaughter\n",
      "manslaughter = df['highest_charge'].str.contains(\"PC192\")\n",
      "manslaughtertot = len(df[manslaughter])\n",
      "manslaughternoinc = df[manslaughter].incar.isnull().sum()\n",
      "manslaughterinc = manslaughtertot - manslaughternoinc\n",
      "manslaughterincmean = df[manslaughter].incar.mean()/30.4\n",
      "manslaughterprobmean = df[manslaughter].prob.mean()/30.4\n",
      "\n",
      "# PC191.5 = Vehicular Manslaughter (while intoxicated)\n",
      "manslaughterdui = df['highest_charge'].str.contains(\"PC191\")\n",
      "manslaughterduitot = len(df[manslaughterdui])\n",
      "manslaughterduinoinc = df[manslaughterdui].incar.isnull().sum()\n",
      "manslaughterduiinc = manslaughterduitot - manslaughterduinoinc\n",
      "manslaughterduiincmean = df[manslaughterdui].incar.mean()/30.4\n",
      "manslaughterduiprobmean = df[manslaughterdui].prob.mean()/30.4\n",
      "\n",
      "# PC187 = Murder \n",
      "murder = df['highest_charge'].str.contains(\"PC187\")\n",
      "murdertot= len(df[murder])\n",
      "murdernoinc = df[murder].incar.isnull().sum()\n",
      "murderinc = murdertot- murdernoinc\n",
      "murderincmean = df[murder].incar.mean()/30.4\n",
      "murderprobmean = df[murder].prob.mean()/30.4\n",
      "\n",
      "index1 = (\"Duty to stop \\n accident w/\\ninjury or death\",\n",
      "         \"Vehicular\\nManslaughter\",\n",
      "         \"Vehicular\\nManslaughter\\nIntox\",\n",
      "         \"Murder\") \n",
      "df1 = pd.DataFrame({ \n",
      "'Incarceration': pd.Series((vcinc,manslaughterinc ,manslaughterduiinc,murderinc), index1),\n",
      "'No Incarceration': pd.Series((vcnoinc,manslaughternoinc,manslaughterduinoinc,murdernoinc), index1)\n",
      "}) \n",
      "\n",
      "ax1=df1.plot(kind='bar', legend=True, title= \"Highest Charge: Injury / Death of Victim\") \n",
      "ax1.set_ylabel('# of cases')\n",
      "ax1.set_xticklabels(df1.index, rotation='horizontal')\n",
      "\n",
      "# Shrink current axis by %\n",
      "box = ax1.get_position()\n",
      "ax1.set_position([box.x0, box.y0, box.width * 1.2, box.height])\n",
      "\n",
      "# Put a legend to the right of the current axis\n",
      "ax1.legend(loc='center left', bbox_to_anchor=(1, 0.5))\n",
      "\n",
      "index2 = (\"Duty to stop accident w/ injury or death\",\n",
      "         \"Vehicular  Manslaughter\",\n",
      "         \"Vehicular  Manslaughter while Intoxicated\",\n",
      "         \"Murder\") \n",
      "table1 = pd.DataFrame({ \n",
      "'Cases w/ Incarceration': pd.Series((vcinc,manslaughterinc ,manslaughterduiinc,murderinc), index2),\n",
      "'Cases w/ No Incarceration': pd.Series((vcnoinc,manslaughternoinc,manslaughterduinoinc,murdernoinc), index2)\n",
      "}) \n",
      "np.round(table1.fillna(0),1)"
     ],
     "language": "python",
     "metadata": {},
     "outputs": [
      {
       "html": [
        "<div style=\"max-height:1000px;max-width:1500px;overflow:auto;\">\n",
        "<table border=\"1\" class=\"dataframe\">\n",
        "  <thead>\n",
        "    <tr style=\"text-align: right;\">\n",
        "      <th></th>\n",
        "      <th>Cases w/ Incarceration</th>\n",
        "      <th>Cases w/ No Incarceration</th>\n",
        "    </tr>\n",
        "  </thead>\n",
        "  <tbody>\n",
        "    <tr>\n",
        "      <th>Duty to stop accident w/ injury or death</th>\n",
        "      <td> 116</td>\n",
        "      <td> 92</td>\n",
        "    </tr>\n",
        "    <tr>\n",
        "      <th>Vehicular  Manslaughter</th>\n",
        "      <td>   1</td>\n",
        "      <td>  1</td>\n",
        "    </tr>\n",
        "    <tr>\n",
        "      <th>Vehicular  Manslaughter while Intoxicated</th>\n",
        "      <td>   9</td>\n",
        "      <td>  0</td>\n",
        "    </tr>\n",
        "    <tr>\n",
        "      <th>Murder</th>\n",
        "      <td>   4</td>\n",
        "      <td>  0</td>\n",
        "    </tr>\n",
        "  </tbody>\n",
        "</table>\n",
        "<p>4 rows \u00d7 2 columns</p>\n",
        "</div>"
       ],
       "metadata": {},
       "output_type": "pyout",
       "prompt_number": 81,
       "text": [
        "                                           Cases w/ Incarceration  \\\n",
        "Duty to stop accident w/ injury or death                      116   \n",
        "Vehicular  Manslaughter                                         1   \n",
        "Vehicular  Manslaughter while Intoxicated                       9   \n",
        "Murder                                                          4   \n",
        "\n",
        "                                           Cases w/ No Incarceration  \n",
        "Duty to stop accident w/ injury or death                          92  \n",
        "Vehicular  Manslaughter                                            1  \n",
        "Vehicular  Manslaughter while Intoxicated                          0  \n",
        "Murder                                                             0  \n",
        "\n",
        "[4 rows x 2 columns]"
       ]
      },
      {
       "metadata": {},
       "output_type": "display_data",
       "png": "[encoded data removed]",
       "text": [
        "<matplotlib.figure.Figure at 0x10c1ecfd0>"
       ]
      }
     ],
     "prompt_number": 81
    },
    {
     "cell_type": "code",
     "collapsed": false,
     "input": [
      "print \"Total number of cases =\", table1['Cases w/ Incarceration'].sum()+table1['Cases w/ No Incarceration'].sum()"
     ],
     "language": "python",
     "metadata": {},
     "outputs": [
      {
       "output_type": "stream",
       "stream": "stdout",
       "text": [
        "Total number of cases = 223\n"
       ]
      }
     ],
     "prompt_number": 83
    },
    {
     "cell_type": "markdown",
     "metadata": {},
     "source": [
      "Considering the sentences that relate to injury and/or death of victim (PC191.5, PC192, PC187 and VC20001), the DA has prosecuted 223 cases. "
     ]
    },
    {
     "cell_type": "markdown",
     "metadata": {},
     "source": [
      "###Avg Length of Sentence\n",
      "For cases where incarceration and/or probation was given, here are the avg length of sentences in months"
     ]
    },
    {
     "cell_type": "code",
     "collapsed": false,
     "input": [
      "index2 = (\"Duty to stop \\n accident w/\\ninjury or death\",\n",
      "         \"Vehicular\\nManslaughter\",\n",
      "         \"Vehicular\\nManslaughter\\nIntox\",\n",
      "         \"Murder\") \n",
      "df2 = pd.DataFrame({ \n",
      "'incarceration': pd.Series((vcincmean,manslaughterincmean,manslaughterduiincmean,murderincmean), index2),\n",
      "'probation': pd.Series((vcprobmean,manslaughterprobmean,manslaughterduiprobmean,murderprobmean), index2)\n",
      "}) \n",
      "\n",
      "ax2=df2.plot(kind='bar',legend=True, stacked=True, title= \"Length of Sentence by Highest Charge\\n\") \n",
      "ax2.set_ylabel('Avg Time (months)')\n",
      "ax2.set_xticklabels(df2.index, rotation='horizontal')\n",
      "\n",
      "\n",
      "# Shrink current axis by %\n",
      "box = ax2.get_position()\n",
      "ax2.set_position([box.x0, box.y0, box.width * 1.2, box.height])\n",
      "\n",
      "# Put a legend to the right of the current axis\n",
      "ax2.legend(loc='center left', bbox_to_anchor=(1, 0.5))\n",
      "\n",
      "index3 = (\"Duty to stop accident w/ injury or death\",\n",
      "         \"Vehicular Manslaughter\",\n",
      "         \"Vehicular Manslaughter while Intoxicated\",\n",
      "         \"Murder\") \n",
      "table2 = pd.DataFrame({ \n",
      "'Avg Length of Incarceration (months)': pd.Series((vcincmean,manslaughterincmean,manslaughterduiincmean,murderincmean),index3),\n",
      "'Avg Lenght of Probation (months)': pd.Series((vcprobmean,manslaughterprobmean,manslaughterduiprobmean,murderprobmean), index3)\n",
      "}) \n",
      "np.round(table2.fillna(0),1)"
     ],
     "language": "python",
     "metadata": {},
     "outputs": [
      {
       "html": [
        "<div style=\"max-height:1000px;max-width:1500px;overflow:auto;\">\n",
        "<table border=\"1\" class=\"dataframe\">\n",
        "  <thead>\n",
        "    <tr style=\"text-align: right;\">\n",
        "      <th></th>\n",
        "      <th>Avg Lenght of Probation (months)</th>\n",
        "      <th>Avg Length of Incarceration (months)</th>\n",
        "    </tr>\n",
        "  </thead>\n",
        "  <tbody>\n",
        "    <tr>\n",
        "      <th>Duty to stop accident w/ injury or death</th>\n",
        "      <td> 39.8</td>\n",
        "      <td>  11.0</td>\n",
        "    </tr>\n",
        "    <tr>\n",
        "      <th>Vehicular Manslaughter</th>\n",
        "      <td> 36.0</td>\n",
        "      <td>  52.0</td>\n",
        "    </tr>\n",
        "    <tr>\n",
        "      <th>Vehicular Manslaughter while Intoxicated</th>\n",
        "      <td>  0.0</td>\n",
        "      <td> 148.1</td>\n",
        "    </tr>\n",
        "    <tr>\n",
        "      <th>Murder</th>\n",
        "      <td>  0.0</td>\n",
        "      <td> 165.1</td>\n",
        "    </tr>\n",
        "  </tbody>\n",
        "</table>\n",
        "<p>4 rows \u00d7 2 columns</p>\n",
        "</div>"
       ],
       "metadata": {},
       "output_type": "pyout",
       "prompt_number": 76,
       "text": [
        "                                          Avg Lenght of Probation (months)  \\\n",
        "Duty to stop accident w/ injury or death                              39.8   \n",
        "Vehicular Manslaughter                                                36.0   \n",
        "Vehicular Manslaughter while Intoxicated                               0.0   \n",
        "Murder                                                                 0.0   \n",
        "\n",
        "                                          Avg Length of Incarceration (months)  \n",
        "Duty to stop accident w/ injury or death                                  11.0  \n",
        "Vehicular Manslaughter                                                    52.0  \n",
        "Vehicular Manslaughter while Intoxicated                                 148.1  \n",
        "Murder                                                                   165.1  \n",
        "\n",
        "[4 rows x 2 columns]"
       ]
      },
      {
       "metadata": {},
       "output_type": "display_data",
       "png": "[encoded data removed]",
       "text": [
        "<matplotlib.figure.Figure at 0x10bb19a10>"
       ]
      }
     ],
     "prompt_number": 76
    },
    {
     "cell_type": "markdown",
     "metadata": {},
     "source": [
      "##California Highway Patrol \n",
      "####Reported Hit and Runs"
     ]
    },
    {
     "cell_type": "code",
     "collapsed": false,
     "input": [
      "CHPdf=CHPdf[(CHPdf['Collision Year']>=2009)&(CHPdf['Collision Year']<= 2012)]"
     ],
     "language": "python",
     "metadata": {},
     "outputs": [],
     "prompt_number": 77
    },
    {
     "cell_type": "code",
     "collapsed": false,
     "input": [
      "chpfatinjtot = CHPdf['Fatal Collisions'].sum()+CHPdf['Injury Collisions'].sum()\n",
      "print \"The CHP has reported\",chpfatinjtot, \"hit and runs that resulted in injury or death.\""
     ],
     "language": "python",
     "metadata": {},
     "outputs": [
      {
       "output_type": "stream",
       "stream": "stdout",
       "text": [
        "The CHP has reported 4099 hit and runs that resulted in injury or death.\n"
       ]
      }
     ],
     "prompt_number": 78
    },
    {
     "cell_type": "code",
     "collapsed": false,
     "input": [
      "print \"The court system processes\", hnrsentences*100/chpfatinjtot,\"% of the cases reported by the CHP.\""
     ],
     "language": "python",
     "metadata": {},
     "outputs": [
      {
       "output_type": "stream",
       "stream": "stdout",
       "text": [
        "The court system processes 13 % of the cases reported by the CHP.\n"
       ]
      }
     ],
     "prompt_number": 79
    },
    {
     "cell_type": "markdown",
     "metadata": {},
     "source": [
      "# Requested Conclusions\n",
      "\n",
      "- The court system brings to justice 13% of all reported hit and runs that result in injury or death of victim.\n",
      "- 9 out of 10 cases are plea bargains to VC20001: Duty to Stop at Accident with Injury or Death.\n",
      "- Incarceration: \n",
      "   - Out of the 241 cases, ~ half of the defendants get incarceration, and the other half doesn\u2019t.\n",
      "   - The avg length of incarceration for those who served is ~ 1 year."
     ]
    }
   ],
   "metadata": {}
  }
 ]
}